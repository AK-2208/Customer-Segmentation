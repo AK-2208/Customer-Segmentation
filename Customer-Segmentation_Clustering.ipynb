{
 "cells": [
  {
   "cell_type": "markdown",
   "id": "3022b3e3",
   "metadata": {},
   "source": [
    "# **Customer-Segmentation Non-Hierarchial Clustering**"
   ]
  },
  {
   "cell_type": "markdown",
   "id": "eb099efa",
   "metadata": {},
   "source": [
    "## Use K Means algorithm to form clusters at optimal value of K ."
   ]
  },
  {
   "cell_type": "code",
   "execution_count": 286,
   "id": "cc35311c",
   "metadata": {},
   "outputs": [],
   "source": [
    "# Load Libraries\n",
    "import pandas as pd\n",
    "import numpy as np\n",
    "import seaborn as sns\n",
    "from scipy.stats import zscore\n",
    "import matplotlib.pyplot as plt\n",
    "%matplotlib inline\n",
    "import warnings\n",
    "warnings.filterwarnings(\"ignore\")\n",
    "# will import rest of the libraries when required"
   ]
  },
  {
   "cell_type": "code",
   "execution_count": 287,
   "id": "ec3d16ef",
   "metadata": {},
   "outputs": [
    {
     "data": {
      "text/html": [
       "<div>\n",
       "<style scoped>\n",
       "    .dataframe tbody tr th:only-of-type {\n",
       "        vertical-align: middle;\n",
       "    }\n",
       "\n",
       "    .dataframe tbody tr th {\n",
       "        vertical-align: top;\n",
       "    }\n",
       "\n",
       "    .dataframe thead th {\n",
       "        text-align: right;\n",
       "    }\n",
       "</style>\n",
       "<table border=\"1\" class=\"dataframe\">\n",
       "  <thead>\n",
       "    <tr style=\"text-align: right;\">\n",
       "      <th></th>\n",
       "      <th>Gender</th>\n",
       "      <th>Age</th>\n",
       "      <th>Annual Income (k$)</th>\n",
       "      <th>Spending Score (1-100)</th>\n",
       "    </tr>\n",
       "    <tr>\n",
       "      <th>CustomerID</th>\n",
       "      <th></th>\n",
       "      <th></th>\n",
       "      <th></th>\n",
       "      <th></th>\n",
       "    </tr>\n",
       "  </thead>\n",
       "  <tbody>\n",
       "    <tr>\n",
       "      <th>1</th>\n",
       "      <td>Male</td>\n",
       "      <td>19</td>\n",
       "      <td>15</td>\n",
       "      <td>39</td>\n",
       "    </tr>\n",
       "    <tr>\n",
       "      <th>2</th>\n",
       "      <td>Male</td>\n",
       "      <td>21</td>\n",
       "      <td>15</td>\n",
       "      <td>81</td>\n",
       "    </tr>\n",
       "    <tr>\n",
       "      <th>3</th>\n",
       "      <td>Female</td>\n",
       "      <td>20</td>\n",
       "      <td>16</td>\n",
       "      <td>6</td>\n",
       "    </tr>\n",
       "    <tr>\n",
       "      <th>4</th>\n",
       "      <td>Female</td>\n",
       "      <td>23</td>\n",
       "      <td>16</td>\n",
       "      <td>77</td>\n",
       "    </tr>\n",
       "    <tr>\n",
       "      <th>5</th>\n",
       "      <td>Female</td>\n",
       "      <td>31</td>\n",
       "      <td>17</td>\n",
       "      <td>40</td>\n",
       "    </tr>\n",
       "  </tbody>\n",
       "</table>\n",
       "</div>"
      ],
      "text/plain": [
       "            Gender  Age  Annual Income (k$)  Spending Score (1-100)\n",
       "CustomerID                                                         \n",
       "1             Male   19                  15                      39\n",
       "2             Male   21                  15                      81\n",
       "3           Female   20                  16                       6\n",
       "4           Female   23                  16                      77\n",
       "5           Female   31                  17                      40"
      ]
     },
     "execution_count": 287,
     "metadata": {},
     "output_type": "execute_result"
    }
   ],
   "source": [
    "# Read Data\n",
    "df= pd.read_csv('Data01.csv' , index_col= [0])\n",
    "df.head()"
   ]
  },
  {
   "cell_type": "code",
   "execution_count": 288,
   "id": "7618fdc6",
   "metadata": {},
   "outputs": [
    {
     "name": "stdout",
     "output_type": "stream",
     "text": [
      "<class 'pandas.core.frame.DataFrame'>\n",
      "Int64Index: 200 entries, 1 to 200\n",
      "Data columns (total 4 columns):\n",
      " #   Column                  Non-Null Count  Dtype \n",
      "---  ------                  --------------  ----- \n",
      " 0   Gender                  200 non-null    object\n",
      " 1   Age                     200 non-null    int64 \n",
      " 2   Annual Income (k$)      200 non-null    int64 \n",
      " 3   Spending Score (1-100)  200 non-null    int64 \n",
      "dtypes: int64(3), object(1)\n",
      "memory usage: 7.8+ KB\n"
     ]
    }
   ],
   "source": [
    "df.info()"
   ]
  },
  {
   "cell_type": "markdown",
   "id": "c81df9ce",
   "metadata": {},
   "source": [
    "**Obtain the summary statistic of data.**"
   ]
  },
  {
   "cell_type": "code",
   "execution_count": 289,
   "id": "0acca566",
   "metadata": {},
   "outputs": [
    {
     "data": {
      "text/html": [
       "<div>\n",
       "<style scoped>\n",
       "    .dataframe tbody tr th:only-of-type {\n",
       "        vertical-align: middle;\n",
       "    }\n",
       "\n",
       "    .dataframe tbody tr th {\n",
       "        vertical-align: top;\n",
       "    }\n",
       "\n",
       "    .dataframe thead th {\n",
       "        text-align: right;\n",
       "    }\n",
       "</style>\n",
       "<table border=\"1\" class=\"dataframe\">\n",
       "  <thead>\n",
       "    <tr style=\"text-align: right;\">\n",
       "      <th></th>\n",
       "      <th>count</th>\n",
       "      <th>mean</th>\n",
       "      <th>std</th>\n",
       "      <th>min</th>\n",
       "      <th>25%</th>\n",
       "      <th>50%</th>\n",
       "      <th>75%</th>\n",
       "      <th>max</th>\n",
       "    </tr>\n",
       "  </thead>\n",
       "  <tbody>\n",
       "    <tr>\n",
       "      <th>Age</th>\n",
       "      <td>200.0</td>\n",
       "      <td>38.85</td>\n",
       "      <td>13.969007</td>\n",
       "      <td>18.0</td>\n",
       "      <td>28.75</td>\n",
       "      <td>36.0</td>\n",
       "      <td>49.0</td>\n",
       "      <td>70.0</td>\n",
       "    </tr>\n",
       "    <tr>\n",
       "      <th>Annual Income (k$)</th>\n",
       "      <td>200.0</td>\n",
       "      <td>60.56</td>\n",
       "      <td>26.264721</td>\n",
       "      <td>15.0</td>\n",
       "      <td>41.50</td>\n",
       "      <td>61.5</td>\n",
       "      <td>78.0</td>\n",
       "      <td>137.0</td>\n",
       "    </tr>\n",
       "    <tr>\n",
       "      <th>Spending Score (1-100)</th>\n",
       "      <td>200.0</td>\n",
       "      <td>50.20</td>\n",
       "      <td>25.823522</td>\n",
       "      <td>1.0</td>\n",
       "      <td>34.75</td>\n",
       "      <td>50.0</td>\n",
       "      <td>73.0</td>\n",
       "      <td>99.0</td>\n",
       "    </tr>\n",
       "  </tbody>\n",
       "</table>\n",
       "</div>"
      ],
      "text/plain": [
       "                        count   mean        std   min    25%   50%   75%  \\\n",
       "Age                     200.0  38.85  13.969007  18.0  28.75  36.0  49.0   \n",
       "Annual Income (k$)      200.0  60.56  26.264721  15.0  41.50  61.5  78.0   \n",
       "Spending Score (1-100)  200.0  50.20  25.823522   1.0  34.75  50.0  73.0   \n",
       "\n",
       "                          max  \n",
       "Age                      70.0  \n",
       "Annual Income (k$)      137.0  \n",
       "Spending Score (1-100)   99.0  "
      ]
     },
     "execution_count": 289,
     "metadata": {},
     "output_type": "execute_result"
    }
   ],
   "source": [
    "df.describe().T"
   ]
  },
  {
   "cell_type": "code",
   "execution_count": 290,
   "id": "fece585c",
   "metadata": {},
   "outputs": [],
   "source": [
    "# Age varies from 18 to 70 and 75% of people are less than 50 years of age . \n",
    "# Annual income ranges between 15 to 137 , though 3/4 has income below $ 78 ."
   ]
  },
  {
   "cell_type": "code",
   "execution_count": 291,
   "id": "1051da7f",
   "metadata": {},
   "outputs": [
    {
     "data": {
      "text/html": [
       "<div>\n",
       "<style scoped>\n",
       "    .dataframe tbody tr th:only-of-type {\n",
       "        vertical-align: middle;\n",
       "    }\n",
       "\n",
       "    .dataframe tbody tr th {\n",
       "        vertical-align: top;\n",
       "    }\n",
       "\n",
       "    .dataframe thead th {\n",
       "        text-align: right;\n",
       "    }\n",
       "</style>\n",
       "<table border=\"1\" class=\"dataframe\">\n",
       "  <thead>\n",
       "    <tr style=\"text-align: right;\">\n",
       "      <th></th>\n",
       "      <th>Gender</th>\n",
       "    </tr>\n",
       "  </thead>\n",
       "  <tbody>\n",
       "    <tr>\n",
       "      <th>count</th>\n",
       "      <td>200</td>\n",
       "    </tr>\n",
       "    <tr>\n",
       "      <th>unique</th>\n",
       "      <td>2</td>\n",
       "    </tr>\n",
       "    <tr>\n",
       "      <th>top</th>\n",
       "      <td>Female</td>\n",
       "    </tr>\n",
       "    <tr>\n",
       "      <th>freq</th>\n",
       "      <td>112</td>\n",
       "    </tr>\n",
       "  </tbody>\n",
       "</table>\n",
       "</div>"
      ],
      "text/plain": [
       "        Gender\n",
       "count      200\n",
       "unique       2\n",
       "top     Female\n",
       "freq       112"
      ]
     },
     "execution_count": 291,
     "metadata": {},
     "output_type": "execute_result"
    }
   ],
   "source": [
    "df.describe(include='object')"
   ]
  },
  {
   "cell_type": "code",
   "execution_count": 292,
   "id": "f391c398",
   "metadata": {},
   "outputs": [],
   "source": [
    "# female count is more than men in available data ."
   ]
  },
  {
   "cell_type": "markdown",
   "id": "847652af",
   "metadata": {},
   "source": [
    "**Find and impute the missing Values in the data .**"
   ]
  },
  {
   "cell_type": "code",
   "execution_count": 293,
   "id": "a5697ae5",
   "metadata": {},
   "outputs": [
    {
     "data": {
      "text/plain": [
       "Gender                    0\n",
       "Age                       0\n",
       "Annual Income (k$)        0\n",
       "Spending Score (1-100)    0\n",
       "dtype: int64"
      ]
     },
     "execution_count": 293,
     "metadata": {},
     "output_type": "execute_result"
    }
   ],
   "source": [
    "df.isnull().sum()  # there is no missing values in the dataset."
   ]
  },
  {
   "cell_type": "markdown",
   "id": "61047f74",
   "metadata": {},
   "source": [
    "**Visualize the outliers in the dataset using boxplot and remove them if necessary**"
   ]
  },
  {
   "cell_type": "code",
   "execution_count": 294,
   "id": "091b5182",
   "metadata": {},
   "outputs": [],
   "source": [
    "q1=df.quantile(0.25)\n",
    "q3=df.quantile(0.75)\n",
    "IQR=q3-q1"
   ]
  },
  {
   "cell_type": "code",
   "execution_count": 295,
   "id": "6383d233",
   "metadata": {},
   "outputs": [],
   "source": [
    "df=df[~((df<(q1-1.5*IQR)) |(df>(q3+1.5*IQR))).any(axis=1)]"
   ]
  },
  {
   "cell_type": "code",
   "execution_count": 296,
   "id": "34ece747",
   "metadata": {},
   "outputs": [
    {
     "data": {
      "text/plain": [
       "(198, 4)"
      ]
     },
     "execution_count": 296,
     "metadata": {},
     "output_type": "execute_result"
    }
   ],
   "source": [
    "df.shape"
   ]
  },
  {
   "cell_type": "code",
   "execution_count": 297,
   "id": "9fe5bb4f",
   "metadata": {},
   "outputs": [
    {
     "data": {
      "text/plain": [
       "<AxesSubplot:>"
      ]
     },
     "execution_count": 297,
     "metadata": {},
     "output_type": "execute_result"
    },
    {
     "data": {
      "image/png": "[encoded data removed]",
      "text/plain": [
       "<Figure size 432x288 with 1 Axes>"
      ]
     },
     "metadata": {
      "needs_background": "light"
     },
     "output_type": "display_data"
    }
   ],
   "source": [
    "df.boxplot()"
   ]
  },
  {
   "cell_type": "markdown",
   "id": "2772abd9",
   "metadata": {},
   "source": [
    "**Drop and transform variables as a part of data preparation .**"
   ]
  },
  {
   "cell_type": "code",
   "execution_count": 298,
   "id": "c5db933e",
   "metadata": {},
   "outputs": [],
   "source": [
    "X=df.drop(['Gender','Age'],axis=1)"
   ]
  },
  {
   "cell_type": "code",
   "execution_count": 299,
   "id": "3f7172c5",
   "metadata": {},
   "outputs": [],
   "source": [
    "Cpy=X.copy()"
   ]
  },
  {
   "cell_type": "code",
   "execution_count": 300,
   "id": "eddd9a2c",
   "metadata": {},
   "outputs": [],
   "source": [
    "from sklearn.preprocessing import MinMaxScaler"
   ]
  },
  {
   "cell_type": "code",
   "execution_count": 301,
   "id": "e6b889ee",
   "metadata": {},
   "outputs": [],
   "source": [
    "mm=MinMaxScaler()"
   ]
  },
  {
   "cell_type": "code",
   "execution_count": 302,
   "id": "c0f2dd8d",
   "metadata": {},
   "outputs": [],
   "source": [
    "Scaled_df = pd.DataFrame(mm.fit_transform(X) , columns = X.columns)  # fit calc: mean and std , transform: scaled the data using z scale"
   ]
  },
  {
   "cell_type": "code",
   "execution_count": 303,
   "id": "aaf0f77e",
   "metadata": {},
   "outputs": [
    {
     "data": {
      "text/html": [
       "<div>\n",
       "<style scoped>\n",
       "    .dataframe tbody tr th:only-of-type {\n",
       "        vertical-align: middle;\n",
       "    }\n",
       "\n",
       "    .dataframe tbody tr th {\n",
       "        vertical-align: top;\n",
       "    }\n",
       "\n",
       "    .dataframe thead th {\n",
       "        text-align: right;\n",
       "    }\n",
       "</style>\n",
       "<table border=\"1\" class=\"dataframe\">\n",
       "  <thead>\n",
       "    <tr style=\"text-align: right;\">\n",
       "      <th></th>\n",
       "      <th>Annual Income (k$)</th>\n",
       "      <th>Spending Score (1-100)</th>\n",
       "    </tr>\n",
       "  </thead>\n",
       "  <tbody>\n",
       "    <tr>\n",
       "      <th>0</th>\n",
       "      <td>0.000000</td>\n",
       "      <td>0.387755</td>\n",
       "    </tr>\n",
       "    <tr>\n",
       "      <th>1</th>\n",
       "      <td>0.000000</td>\n",
       "      <td>0.816327</td>\n",
       "    </tr>\n",
       "    <tr>\n",
       "      <th>2</th>\n",
       "      <td>0.009009</td>\n",
       "      <td>0.051020</td>\n",
       "    </tr>\n",
       "    <tr>\n",
       "      <th>3</th>\n",
       "      <td>0.009009</td>\n",
       "      <td>0.775510</td>\n",
       "    </tr>\n",
       "    <tr>\n",
       "      <th>4</th>\n",
       "      <td>0.018018</td>\n",
       "      <td>0.397959</td>\n",
       "    </tr>\n",
       "  </tbody>\n",
       "</table>\n",
       "</div>"
      ],
      "text/plain": [
       "   Annual Income (k$)  Spending Score (1-100)\n",
       "0            0.000000                0.387755\n",
       "1            0.000000                0.816327\n",
       "2            0.009009                0.051020\n",
       "3            0.009009                0.775510\n",
       "4            0.018018                0.397959"
      ]
     },
     "execution_count": 303,
     "metadata": {},
     "output_type": "execute_result"
    }
   ],
   "source": [
    "Scaled_df.head()"
   ]
  },
  {
   "cell_type": "markdown",
   "id": "4c6a4dd0",
   "metadata": {},
   "source": [
    "**Select the range of clusters k which you think can give the optimal number for k .**\n",
    "\n",
    "* guess cluster range using pair plot or appropriate visualization\n",
    "\n",
    "* understand the data and consider optimal range of clusters using the domain knowledge"
   ]
  },
  {
   "cell_type": "code",
   "execution_count": 304,
   "id": "aed6cb6a",
   "metadata": {},
   "outputs": [
    {
     "data": {
      "text/plain": [
       "<seaborn.axisgrid.PairGrid at 0x1e770e18eb0>"
      ]
     },
     "execution_count": 304,
     "metadata": {},
     "output_type": "execute_result"
    },
    {
     "data": {
      "image/png": "[encoded data removed]",
      "text/plain": [
       "<Figure size 360x360 with 6 Axes>"
      ]
     },
     "metadata": {
      "needs_background": "light"
     },
     "output_type": "display_data"
    }
   ],
   "source": [
    "sns.pairplot(Scaled_df ,diag_kind='kde', palette='bright')"
   ]
  },
  {
   "cell_type": "code",
   "execution_count": 305,
   "id": "54881fb8",
   "metadata": {},
   "outputs": [],
   "source": [
    "# according to pair plot 2 peaks are visible and possible range can be from 2 to 6"
   ]
  },
  {
   "cell_type": "code",
   "execution_count": 306,
   "id": "d75bd67a",
   "metadata": {},
   "outputs": [],
   "source": [
    "# according to domain knowledge it would be preferable to target people \n",
    "# in either two bands below average income , above average income or\n",
    "# in three bands less income/spending score , average income/spending score , high income/spending score "
   ]
  },
  {
   "cell_type": "markdown",
   "id": "a84d73a1",
   "metadata": {},
   "source": [
    "**Obtain the clusters value at optimal value of K .**\n",
    "\n",
    "* Inertia \n",
    "* Elbow method\n",
    "* Silhouette coefficient\n",
    "* Visualization"
   ]
  },
  {
   "cell_type": "code",
   "execution_count": 307,
   "id": "e706d460",
   "metadata": {},
   "outputs": [],
   "source": [
    "from sklearn.cluster import KMeans"
   ]
  },
  {
   "cell_type": "code",
   "execution_count": 308,
   "id": "0db43b48",
   "metadata": {},
   "outputs": [],
   "source": [
    "clusters_range = range(1 , 7)\n",
    "wsse=[]\n",
    "for n_clusters in clusters_range:\n",
    "    kmeans=KMeans(n_clusters , n_init= 5 , random_state =10)  \n",
    "    # n_init: Chooses the row from matrix(5Xk) which gives the maximum difference between centroids\n",
    "    kmeans.fit(Scaled_df)\n",
    "    wsse.append(kmeans.inertia_)"
   ]
  },
  {
   "cell_type": "code",
   "execution_count": 309,
   "id": "217523bd",
   "metadata": {},
   "outputs": [
    {
     "data": {
      "text/html": [
       "<div>\n",
       "<style scoped>\n",
       "    .dataframe tbody tr th:only-of-type {\n",
       "        vertical-align: middle;\n",
       "    }\n",
       "\n",
       "    .dataframe tbody tr th {\n",
       "        vertical-align: top;\n",
       "    }\n",
       "\n",
       "    .dataframe thead th {\n",
       "        text-align: right;\n",
       "    }\n",
       "</style>\n",
       "<table border=\"1\" class=\"dataframe\">\n",
       "  <thead>\n",
       "    <tr style=\"text-align: right;\">\n",
       "      <th></th>\n",
       "      <th>K</th>\n",
       "      <th>Inertia</th>\n",
       "    </tr>\n",
       "  </thead>\n",
       "  <tbody>\n",
       "    <tr>\n",
       "      <th>0</th>\n",
       "      <td>1</td>\n",
       "      <td>23.781274</td>\n",
       "    </tr>\n",
       "    <tr>\n",
       "      <th>1</th>\n",
       "      <td>2</td>\n",
       "      <td>14.925732</td>\n",
       "    </tr>\n",
       "    <tr>\n",
       "      <th>2</th>\n",
       "      <td>3</td>\n",
       "      <td>9.471505</td>\n",
       "    </tr>\n",
       "    <tr>\n",
       "      <th>3</th>\n",
       "      <td>4</td>\n",
       "      <td>6.280510</td>\n",
       "    </tr>\n",
       "    <tr>\n",
       "      <th>4</th>\n",
       "      <td>5</td>\n",
       "      <td>3.565078</td>\n",
       "    </tr>\n",
       "    <tr>\n",
       "      <th>5</th>\n",
       "      <td>6</td>\n",
       "      <td>3.097665</td>\n",
       "    </tr>\n",
       "  </tbody>\n",
       "</table>\n",
       "</div>"
      ],
      "text/plain": [
       "   K    Inertia\n",
       "0  1  23.781274\n",
       "1  2  14.925732\n",
       "2  3   9.471505\n",
       "3  4   6.280510\n",
       "4  5   3.565078\n",
       "5  6   3.097665"
      ]
     },
     "execution_count": 309,
     "metadata": {},
     "output_type": "execute_result"
    }
   ],
   "source": [
    "inertia=pd.DataFrame({'K': clusters_range , 'Inertia':wsse})\n",
    "inertia.head(10)"
   ]
  },
  {
   "cell_type": "code",
   "execution_count": 310,
   "id": "669ebc0a",
   "metadata": {},
   "outputs": [
    {
     "data": {
      "text/plain": [
       "[<matplotlib.lines.Line2D at 0x1e77126c130>]"
      ]
     },
     "execution_count": 310,
     "metadata": {},
     "output_type": "execute_result"
    },
    {
     "data": {
      "image/png": "[encoded data removed]",
      "text/plain": [
       "<Figure size 432x288 with 1 Axes>"
      ]
     },
     "metadata": {
      "needs_background": "light"
     },
     "output_type": "display_data"
    }
   ],
   "source": [
    "plt.plot(inertia.K, inertia.Inertia , marker='p',markersize=10)"
   ]
  },
  {
   "cell_type": "code",
   "execution_count": 311,
   "id": "051083ff",
   "metadata": {},
   "outputs": [],
   "source": [
    "# since the decline is max at 2 and 4 , the cluster value can be taken as either 2 or 4 .\n",
    "# since the inertia is high at 2 and 4 cluster will be to many for division \n",
    "# so we can take as per the domain requirement . "
   ]
  },
  {
   "cell_type": "code",
   "execution_count": 312,
   "id": "fac9ef65",
   "metadata": {},
   "outputs": [],
   "source": [
    "# to cross verify the optimal value of k we can use Silhouette Index (Cluster Validity Index)"
   ]
  },
  {
   "cell_type": "code",
   "execution_count": 313,
   "id": "33969217",
   "metadata": {},
   "outputs": [],
   "source": [
    "from sklearn.metrics import silhouette_score"
   ]
  },
  {
   "cell_type": "code",
   "execution_count": 314,
   "id": "3b4e67dc",
   "metadata": {},
   "outputs": [
    {
     "name": "stdout",
     "output_type": "stream",
     "text": [
      "For n_clusters = 2 The average silhouette_score is : 0.31916358511714177\n",
      "For n_clusters = 3 The average silhouette_score is : 0.45462698579924626\n",
      "For n_clusters = 4 The average silhouette_score is : 0.4999162571098343\n",
      "For n_clusters = 5 The average silhouette_score is : 0.5640959164678206\n",
      "For n_clusters = 6 The average silhouette_score is : 0.46124573925575213\n"
     ]
    }
   ],
   "source": [
    "clusters_range = range(2 , 7)\n",
    "score=[]\n",
    "for n_clusters in clusters_range:\n",
    "    Kmeans=KMeans(n_clusters , n_init= 5 , random_state =10)  \n",
    "    # n_init: Chooses the row from matrix(5Xk) which gives the maximum difference between centroids\n",
    "    Kmeans.fit(Scaled_df)\n",
    "    silhouette_avg = silhouette_score(Scaled_df, Kmeans.labels_ , random_state =10)\n",
    "    score.append(silhouette_avg)\n",
    "    print(\"For n_clusters =\", n_clusters, \"The average silhouette_score is :\", silhouette_avg)"
   ]
  },
  {
   "cell_type": "code",
   "execution_count": 315,
   "id": "06aa2672",
   "metadata": {},
   "outputs": [],
   "source": [
    "# According to Silhouette Index the optimal value of k can be 3 and 4 (both are approx 0.5) .\n",
    "# so lets check the clustering quality at k = 3 "
   ]
  },
  {
   "cell_type": "markdown",
   "id": "e9a5e64c",
   "metadata": {},
   "source": [
    "**Fit K means clustering algorithm with an optimal number of clusters. .**\n",
    "* predictions\n",
    "* kmeans.labels_"
   ]
  },
  {
   "cell_type": "code",
   "execution_count": 316,
   "id": "f98be5b3",
   "metadata": {},
   "outputs": [],
   "source": [
    "kmodel=KMeans(n_clusters=3 , n_init=5 , random_state=10)\n",
    "kmodel.fit(Scaled_df)\n",
    "clusters=kmodel.predict(Scaled_df)"
   ]
  },
  {
   "cell_type": "code",
   "execution_count": 317,
   "id": "cef86e7c",
   "metadata": {},
   "outputs": [
    {
     "data": {
      "text/plain": [
       "array([0, 1, 2])"
      ]
     },
     "execution_count": 317,
     "metadata": {},
     "output_type": "execute_result"
    }
   ],
   "source": [
    "np.unique(clusters)"
   ]
  },
  {
   "cell_type": "markdown",
   "id": "9a5c6dcc",
   "metadata": {},
   "source": [
    "**Obtain the centroids of the clusters formed using K-means clustering at optimal k value .**\n",
    "* kmeans.cluster_centers_"
   ]
  },
  {
   "cell_type": "code",
   "execution_count": 318,
   "id": "252a454c",
   "metadata": {},
   "outputs": [
    {
     "name": "stdout",
     "output_type": "stream",
     "text": [
      "Centroid values\n",
      "[[0.26310737 0.49473068]\n",
      " [0.62162162 0.83019362]\n",
      " [0.63647431 0.18008825]]\n"
     ]
    }
   ],
   "source": [
    "centroids = kmodel.cluster_centers_\n",
    "print(\"Centroid values\")\n",
    "print(centroids)"
   ]
  },
  {
   "cell_type": "markdown",
   "id": "41eced20",
   "metadata": {},
   "source": [
    "**Intrepret the size of clusters and value counts of each group .**\n",
    "* assign clusters to each index in dataframe\n",
    "* value_counts()\n",
    "* Visualize clusters"
   ]
  },
  {
   "cell_type": "code",
   "execution_count": 319,
   "id": "c0b4a28a",
   "metadata": {},
   "outputs": [
    {
     "data": {
      "text/html": [
       "<div>\n",
       "<style scoped>\n",
       "    .dataframe tbody tr th:only-of-type {\n",
       "        vertical-align: middle;\n",
       "    }\n",
       "\n",
       "    .dataframe tbody tr th {\n",
       "        vertical-align: top;\n",
       "    }\n",
       "\n",
       "    .dataframe thead th {\n",
       "        text-align: right;\n",
       "    }\n",
       "</style>\n",
       "<table border=\"1\" class=\"dataframe\">\n",
       "  <thead>\n",
       "    <tr style=\"text-align: right;\">\n",
       "      <th></th>\n",
       "      <th>Gender</th>\n",
       "      <th>Age</th>\n",
       "      <th>Annual Income (k$)</th>\n",
       "      <th>Spending Score (1-100)</th>\n",
       "      <th>Clusters</th>\n",
       "    </tr>\n",
       "    <tr>\n",
       "      <th>CustomerID</th>\n",
       "      <th></th>\n",
       "      <th></th>\n",
       "      <th></th>\n",
       "      <th></th>\n",
       "      <th></th>\n",
       "    </tr>\n",
       "  </thead>\n",
       "  <tbody>\n",
       "    <tr>\n",
       "      <th>1</th>\n",
       "      <td>Male</td>\n",
       "      <td>19</td>\n",
       "      <td>15</td>\n",
       "      <td>39</td>\n",
       "      <td>0</td>\n",
       "    </tr>\n",
       "    <tr>\n",
       "      <th>2</th>\n",
       "      <td>Male</td>\n",
       "      <td>21</td>\n",
       "      <td>15</td>\n",
       "      <td>81</td>\n",
       "      <td>0</td>\n",
       "    </tr>\n",
       "    <tr>\n",
       "      <th>3</th>\n",
       "      <td>Female</td>\n",
       "      <td>20</td>\n",
       "      <td>16</td>\n",
       "      <td>6</td>\n",
       "      <td>0</td>\n",
       "    </tr>\n",
       "    <tr>\n",
       "      <th>4</th>\n",
       "      <td>Female</td>\n",
       "      <td>23</td>\n",
       "      <td>16</td>\n",
       "      <td>77</td>\n",
       "      <td>0</td>\n",
       "    </tr>\n",
       "    <tr>\n",
       "      <th>5</th>\n",
       "      <td>Female</td>\n",
       "      <td>31</td>\n",
       "      <td>17</td>\n",
       "      <td>40</td>\n",
       "      <td>0</td>\n",
       "    </tr>\n",
       "  </tbody>\n",
       "</table>\n",
       "</div>"
      ],
      "text/plain": [
       "            Gender  Age  Annual Income (k$)  Spending Score (1-100)  Clusters\n",
       "CustomerID                                                                   \n",
       "1             Male   19                  15                      39         0\n",
       "2             Male   21                  15                      81         0\n",
       "3           Female   20                  16                       6         0\n",
       "4           Female   23                  16                      77         0\n",
       "5           Female   31                  17                      40         0"
      ]
     },
     "execution_count": 319,
     "metadata": {},
     "output_type": "execute_result"
    }
   ],
   "source": [
    "df['Clusters']=clusters\n",
    "df.head()"
   ]
  },
  {
   "cell_type": "code",
   "execution_count": 320,
   "id": "31717013",
   "metadata": {},
   "outputs": [
    {
     "data": {
      "image/png": "[encoded data removed]",
      "text/plain": [
       "<Figure size 408.75x360 with 6 Axes>"
      ]
     },
     "metadata": {
      "needs_background": "light"
     },
     "output_type": "display_data"
    }
   ],
   "source": [
    "sns.pairplot(df.drop('Age' , axis=1),diag_kind='kde',hue='Clusters',palette='bright');"
   ]
  },
  {
   "cell_type": "code",
   "execution_count": 321,
   "id": "839ccbf4",
   "metadata": {},
   "outputs": [],
   "source": [
    "# this looks like 3 is an optimal number of cluster ."
   ]
  },
  {
   "cell_type": "code",
   "execution_count": 322,
   "id": "db38456b",
   "metadata": {},
   "outputs": [
    {
     "data": {
      "text/plain": [
       "0    122\n",
       "1     39\n",
       "2     37\n",
       "Name: Clusters, dtype: int64"
      ]
     },
     "execution_count": 322,
     "metadata": {},
     "output_type": "execute_result"
    }
   ],
   "source": [
    "df['Clusters'].value_counts()"
   ]
  },
  {
   "cell_type": "code",
   "execution_count": 323,
   "id": "51076a6c",
   "metadata": {},
   "outputs": [],
   "source": [
    "# cluster 0 has the maximum number of customers"
   ]
  },
  {
   "cell_type": "markdown",
   "id": "313816e0",
   "metadata": {},
   "source": [
    "**Summarize and visualize each cluster individually.**"
   ]
  },
  {
   "cell_type": "code",
   "execution_count": 324,
   "id": "7819c683",
   "metadata": {},
   "outputs": [
    {
     "data": {
      "text/plain": [
       "<AxesSubplot:xlabel='Annual Income (k$)', ylabel='Spending Score (1-100)'>"
      ]
     },
     "execution_count": 324,
     "metadata": {},
     "output_type": "execute_result"
    },
    {
     "data": {
      "image/png": "[encoded data removed]",
      "text/plain": [
       "<Figure size 432x288 with 1 Axes>"
      ]
     },
     "metadata": {
      "needs_background": "light"
     },
     "output_type": "display_data"
    }
   ],
   "source": [
    "sns.scatterplot(x=df['Annual Income (k$)'], y=df['Spending Score (1-100)'] , hue=df['Clusters'])\n",
    "\n",
    "#scatter plot shows clear division between clusters and that the cluster one has the maxmimum variation."
   ]
  },
  {
   "cell_type": "code",
   "execution_count": 325,
   "id": "3089fba9",
   "metadata": {},
   "outputs": [],
   "source": [
    "# Cluster 1 : more income more expenditure(Target) \n",
    "# Cluster 2 : more income less expenditure (Potential) , \n",
    "# Cluster 0 : less than average income with varied expenditure (Others)"
   ]
  },
  {
   "cell_type": "code",
   "execution_count": 326,
   "id": "e468692a",
   "metadata": {},
   "outputs": [],
   "source": [
    "Target=df[df['Clusters'] == 1]"
   ]
  },
  {
   "cell_type": "code",
   "execution_count": 327,
   "id": "5cc5dbee",
   "metadata": {},
   "outputs": [],
   "source": [
    "Potential = df[df['Clusters'] == 2]"
   ]
  },
  {
   "cell_type": "code",
   "execution_count": 328,
   "id": "7ba14bfd",
   "metadata": {},
   "outputs": [],
   "source": [
    "Others = df[df['Clusters']  == 0]"
   ]
  },
  {
   "cell_type": "code",
   "execution_count": 329,
   "id": "076fceb0",
   "metadata": {
    "scrolled": true
   },
   "outputs": [
    {
     "data": {
      "text/html": [
       "<div>\n",
       "<style scoped>\n",
       "    .dataframe tbody tr th:only-of-type {\n",
       "        vertical-align: middle;\n",
       "    }\n",
       "\n",
       "    .dataframe tbody tr th {\n",
       "        vertical-align: top;\n",
       "    }\n",
       "\n",
       "    .dataframe thead th {\n",
       "        text-align: right;\n",
       "    }\n",
       "</style>\n",
       "<table border=\"1\" class=\"dataframe\">\n",
       "  <thead>\n",
       "    <tr style=\"text-align: right;\">\n",
       "      <th></th>\n",
       "      <th>Age</th>\n",
       "      <th>Annual Income (k$)</th>\n",
       "      <th>Spending Score (1-100)</th>\n",
       "      <th>Clusters</th>\n",
       "    </tr>\n",
       "  </thead>\n",
       "  <tbody>\n",
       "    <tr>\n",
       "      <th>count</th>\n",
       "      <td>39.000000</td>\n",
       "      <td>39.000000</td>\n",
       "      <td>39.000000</td>\n",
       "      <td>39.0</td>\n",
       "    </tr>\n",
       "    <tr>\n",
       "      <th>mean</th>\n",
       "      <td>32.538462</td>\n",
       "      <td>84.000000</td>\n",
       "      <td>82.358974</td>\n",
       "      <td>1.0</td>\n",
       "    </tr>\n",
       "    <tr>\n",
       "      <th>std</th>\n",
       "      <td>3.959307</td>\n",
       "      <td>15.952231</td>\n",
       "      <td>9.496501</td>\n",
       "      <td>0.0</td>\n",
       "    </tr>\n",
       "    <tr>\n",
       "      <th>min</th>\n",
       "      <td>24.000000</td>\n",
       "      <td>38.000000</td>\n",
       "      <td>63.000000</td>\n",
       "      <td>1.0</td>\n",
       "    </tr>\n",
       "    <tr>\n",
       "      <th>25%</th>\n",
       "      <td>30.000000</td>\n",
       "      <td>74.500000</td>\n",
       "      <td>74.500000</td>\n",
       "      <td>1.0</td>\n",
       "    </tr>\n",
       "    <tr>\n",
       "      <th>50%</th>\n",
       "      <td>32.000000</td>\n",
       "      <td>78.000000</td>\n",
       "      <td>85.000000</td>\n",
       "      <td>1.0</td>\n",
       "    </tr>\n",
       "    <tr>\n",
       "      <th>75%</th>\n",
       "      <td>35.500000</td>\n",
       "      <td>90.500000</td>\n",
       "      <td>90.500000</td>\n",
       "      <td>1.0</td>\n",
       "    </tr>\n",
       "    <tr>\n",
       "      <th>max</th>\n",
       "      <td>40.000000</td>\n",
       "      <td>126.000000</td>\n",
       "      <td>97.000000</td>\n",
       "      <td>1.0</td>\n",
       "    </tr>\n",
       "  </tbody>\n",
       "</table>\n",
       "</div>"
      ],
      "text/plain": [
       "             Age  Annual Income (k$)  Spending Score (1-100)  Clusters\n",
       "count  39.000000           39.000000               39.000000      39.0\n",
       "mean   32.538462           84.000000               82.358974       1.0\n",
       "std     3.959307           15.952231                9.496501       0.0\n",
       "min    24.000000           38.000000               63.000000       1.0\n",
       "25%    30.000000           74.500000               74.500000       1.0\n",
       "50%    32.000000           78.000000               85.000000       1.0\n",
       "75%    35.500000           90.500000               90.500000       1.0\n",
       "max    40.000000          126.000000               97.000000       1.0"
      ]
     },
     "execution_count": 329,
     "metadata": {},
     "output_type": "execute_result"
    }
   ],
   "source": [
    "Target.describe()"
   ]
  },
  {
   "cell_type": "code",
   "execution_count": 330,
   "id": "5ca73339",
   "metadata": {},
   "outputs": [],
   "source": [
    "# min annual income average is 84 and expenditure score range from 63 to 97.\n",
    "# this group belongs to young people since 75% are below 35 years of age . \n",
    "# this group provide us with the \"\"Valuable customers.\"\""
   ]
  },
  {
   "cell_type": "code",
   "execution_count": 331,
   "id": "1c6ea065",
   "metadata": {},
   "outputs": [
    {
     "data": {
      "text/html": [
       "<div>\n",
       "<style scoped>\n",
       "    .dataframe tbody tr th:only-of-type {\n",
       "        vertical-align: middle;\n",
       "    }\n",
       "\n",
       "    .dataframe tbody tr th {\n",
       "        vertical-align: top;\n",
       "    }\n",
       "\n",
       "    .dataframe thead th {\n",
       "        text-align: right;\n",
       "    }\n",
       "</style>\n",
       "<table border=\"1\" class=\"dataframe\">\n",
       "  <thead>\n",
       "    <tr style=\"text-align: right;\">\n",
       "      <th></th>\n",
       "      <th>Age</th>\n",
       "      <th>Annual Income (k$)</th>\n",
       "      <th>Spending Score (1-100)</th>\n",
       "      <th>Clusters</th>\n",
       "    </tr>\n",
       "  </thead>\n",
       "  <tbody>\n",
       "    <tr>\n",
       "      <th>count</th>\n",
       "      <td>37.000000</td>\n",
       "      <td>37.000000</td>\n",
       "      <td>37.000000</td>\n",
       "      <td>37.0</td>\n",
       "    </tr>\n",
       "    <tr>\n",
       "      <th>mean</th>\n",
       "      <td>40.621622</td>\n",
       "      <td>85.648649</td>\n",
       "      <td>18.648649</td>\n",
       "      <td>2.0</td>\n",
       "    </tr>\n",
       "    <tr>\n",
       "      <th>std</th>\n",
       "      <td>11.446376</td>\n",
       "      <td>14.170031</td>\n",
       "      <td>11.066005</td>\n",
       "      <td>0.0</td>\n",
       "    </tr>\n",
       "    <tr>\n",
       "      <th>min</th>\n",
       "      <td>19.000000</td>\n",
       "      <td>70.000000</td>\n",
       "      <td>1.000000</td>\n",
       "      <td>2.0</td>\n",
       "    </tr>\n",
       "    <tr>\n",
       "      <th>25%</th>\n",
       "      <td>34.000000</td>\n",
       "      <td>76.000000</td>\n",
       "      <td>10.000000</td>\n",
       "      <td>2.0</td>\n",
       "    </tr>\n",
       "    <tr>\n",
       "      <th>50%</th>\n",
       "      <td>42.000000</td>\n",
       "      <td>79.000000</td>\n",
       "      <td>16.000000</td>\n",
       "      <td>2.0</td>\n",
       "    </tr>\n",
       "    <tr>\n",
       "      <th>75%</th>\n",
       "      <td>47.000000</td>\n",
       "      <td>93.000000</td>\n",
       "      <td>27.000000</td>\n",
       "      <td>2.0</td>\n",
       "    </tr>\n",
       "    <tr>\n",
       "      <th>max</th>\n",
       "      <td>59.000000</td>\n",
       "      <td>126.000000</td>\n",
       "      <td>40.000000</td>\n",
       "      <td>2.0</td>\n",
       "    </tr>\n",
       "  </tbody>\n",
       "</table>\n",
       "</div>"
      ],
      "text/plain": [
       "             Age  Annual Income (k$)  Spending Score (1-100)  Clusters\n",
       "count  37.000000           37.000000               37.000000      37.0\n",
       "mean   40.621622           85.648649               18.648649       2.0\n",
       "std    11.446376           14.170031               11.066005       0.0\n",
       "min    19.000000           70.000000                1.000000       2.0\n",
       "25%    34.000000           76.000000               10.000000       2.0\n",
       "50%    42.000000           79.000000               16.000000       2.0\n",
       "75%    47.000000           93.000000               27.000000       2.0\n",
       "max    59.000000          126.000000               40.000000       2.0"
      ]
     },
     "execution_count": 331,
     "metadata": {},
     "output_type": "execute_result"
    }
   ],
   "source": [
    "Potential.describe()"
   ]
  },
  {
   "cell_type": "code",
   "execution_count": 332,
   "id": "d30d7363",
   "metadata": {},
   "outputs": [],
   "source": [
    "# Average Annual Income of this group is slightly higher than the target customers having very low expenditure score\n",
    "# this group has people mostly between 20 to 50 years of age . \n",
    "# means they can be our \"\"potential customers\"\""
   ]
  },
  {
   "cell_type": "code",
   "execution_count": 333,
   "id": "abf46dd7",
   "metadata": {
    "scrolled": true
   },
   "outputs": [
    {
     "data": {
      "text/html": [
       "<div>\n",
       "<style scoped>\n",
       "    .dataframe tbody tr th:only-of-type {\n",
       "        vertical-align: middle;\n",
       "    }\n",
       "\n",
       "    .dataframe tbody tr th {\n",
       "        vertical-align: top;\n",
       "    }\n",
       "\n",
       "    .dataframe thead th {\n",
       "        text-align: right;\n",
       "    }\n",
       "</style>\n",
       "<table border=\"1\" class=\"dataframe\">\n",
       "  <thead>\n",
       "    <tr style=\"text-align: right;\">\n",
       "      <th></th>\n",
       "      <th>Age</th>\n",
       "      <th>Annual Income (k$)</th>\n",
       "      <th>Spending Score (1-100)</th>\n",
       "      <th>Clusters</th>\n",
       "    </tr>\n",
       "  </thead>\n",
       "  <tbody>\n",
       "    <tr>\n",
       "      <th>count</th>\n",
       "      <td>122.000000</td>\n",
       "      <td>122.000000</td>\n",
       "      <td>122.000000</td>\n",
       "      <td>122.0</td>\n",
       "    </tr>\n",
       "    <tr>\n",
       "      <th>mean</th>\n",
       "      <td>40.459016</td>\n",
       "      <td>44.204918</td>\n",
       "      <td>49.483607</td>\n",
       "      <td>0.0</td>\n",
       "    </tr>\n",
       "    <tr>\n",
       "      <th>std</th>\n",
       "      <td>16.111260</td>\n",
       "      <td>16.094216</td>\n",
       "      <td>19.397211</td>\n",
       "      <td>0.0</td>\n",
       "    </tr>\n",
       "    <tr>\n",
       "      <th>min</th>\n",
       "      <td>18.000000</td>\n",
       "      <td>15.000000</td>\n",
       "      <td>3.000000</td>\n",
       "      <td>0.0</td>\n",
       "    </tr>\n",
       "    <tr>\n",
       "      <th>25%</th>\n",
       "      <td>25.250000</td>\n",
       "      <td>30.000000</td>\n",
       "      <td>42.000000</td>\n",
       "      <td>0.0</td>\n",
       "    </tr>\n",
       "    <tr>\n",
       "      <th>50%</th>\n",
       "      <td>39.000000</td>\n",
       "      <td>46.500000</td>\n",
       "      <td>50.000000</td>\n",
       "      <td>0.0</td>\n",
       "    </tr>\n",
       "    <tr>\n",
       "      <th>75%</th>\n",
       "      <td>51.750000</td>\n",
       "      <td>59.750000</td>\n",
       "      <td>58.000000</td>\n",
       "      <td>0.0</td>\n",
       "    </tr>\n",
       "    <tr>\n",
       "      <th>max</th>\n",
       "      <td>70.000000</td>\n",
       "      <td>69.000000</td>\n",
       "      <td>99.000000</td>\n",
       "      <td>0.0</td>\n",
       "    </tr>\n",
       "  </tbody>\n",
       "</table>\n",
       "</div>"
      ],
      "text/plain": [
       "              Age  Annual Income (k$)  Spending Score (1-100)  Clusters\n",
       "count  122.000000          122.000000              122.000000     122.0\n",
       "mean    40.459016           44.204918               49.483607       0.0\n",
       "std     16.111260           16.094216               19.397211       0.0\n",
       "min     18.000000           15.000000                3.000000       0.0\n",
       "25%     25.250000           30.000000               42.000000       0.0\n",
       "50%     39.000000           46.500000               50.000000       0.0\n",
       "75%     51.750000           59.750000               58.000000       0.0\n",
       "max     70.000000           69.000000               99.000000       0.0"
      ]
     },
     "execution_count": 333,
     "metadata": {},
     "output_type": "execute_result"
    }
   ],
   "source": [
    "Others.describe()"
   ]
  },
  {
   "cell_type": "code",
   "execution_count": 334,
   "id": "0a1ff344",
   "metadata": {},
   "outputs": [],
   "source": [
    "# this group has huge variation so it can further classify into \"\"sub groups\"\"\n",
    "# GROUP 1 : people with low income and high expenditure (they can also be our target customers )\n",
    "# GROUP 2 : people with low income and low expenditure (these customers are not very significant from bussiness point of view)"
   ]
  }
 ],
 "metadata": {
  "kernelspec": {
   "display_name": "Python 3",
   "language": "python",
   "name": "python3"
  },
  "language_info": {
   "codemirror_mode": {
    "name": "ipython",
    "version": 3
   },
   "file_extension": ".py",
   "mimetype": "text/x-python",
   "name": "python",
   "nbconvert_exporter": "python",
   "pygments_lexer": "ipython3",
   "version": "3.8.8"
  }
 },
 "nbformat": 4,
 "nbformat_minor": 5
}
